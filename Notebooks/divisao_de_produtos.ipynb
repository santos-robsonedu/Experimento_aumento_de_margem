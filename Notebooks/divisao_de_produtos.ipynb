{
 "cells": [
  {
   "cell_type": "code",
   "execution_count": 12,
   "id": "9273cc2d",
   "metadata": {},
   "outputs": [
    {
     "name": "stdout",
     "output_type": "stream",
     "text": [
      "Conferência bem-sucedida: Todos os produtos foram distribuídos corretamente.\n"
     ]
    }
   ],
   "source": [
    "import numpy as np\n",
    "import pandas as pd\n",
    "\n",
    "## Carregando o arquivo com o cadastro completo dos produtos\n",
    "df = pd.read_excel('Produtos/cadastro_completo.xlsx')\n",
    "\n",
    "## Embaralhando o DataFrame\n",
    "df_mix = df.sample(frac=1, random_state=1).reset_index(drop=True)\n",
    "\n",
    "## Encontrando o meio do DataFrame\n",
    "## Usando '//2' para caso do cadastro conter número impar de produtos\n",
    "metade = len(df_mix) // 2\n",
    "## Dividindo o DataFrame em dois grupos\n",
    "grupo_a = df_mix.iloc[:metade]\n",
    "grupo_b = df_mix.iloc[metade:]\n",
    "\n",
    "## Salvando os grupos\n",
    "grupo_a.to_excel('Grupos/grupo_a.xlsx', index=False)\n",
    "grupo_b.to_excel('Grupos/grupo_b.xlsx', index=False)\n",
    "\n",
    "## Verificando se o número total de linhas é igual ao original\n",
    "df_conferido = pd.concat([grupo_a, grupo_b])\n",
    "if len(df_conferido) == len(df):\n",
    "    print(\"Conferência bem-sucedida: Todos os produtos foram distribuídos corretamente.\")\n",
    "else:\n",
    "    print(\"Erro na conferência: O número de produtos não corresponde ao original.\")\n"
   ]
  }
 ],
 "metadata": {
  "kernelspec": {
   "display_name": "Python 3 (ipykernel)",
   "language": "python",
   "name": "python3"
  },
  "language_info": {
   "codemirror_mode": {
    "name": "ipython",
    "version": 3
   },
   "file_extension": ".py",
   "mimetype": "text/x-python",
   "name": "python",
   "nbconvert_exporter": "python",
   "pygments_lexer": "ipython3",
   "version": "3.9.13"
  }
 },
 "nbformat": 4,
 "nbformat_minor": 5
}
