{
 "cells": [
  {
   "cell_type": "code",
   "execution_count": null,
   "id": "892114db",
   "metadata": {},
   "outputs": [],
   "source": [
    "import numpy as np\n",
    "import pandas as pd\n",
    "import scipy.stats as stats\n",
    "from scipy.stats import levene\n",
    "\n",
    "## Importando os arquivos de cada grupo\n",
    "resultado_grupo_a = pd.read_excel('resultado_grupo_a.xlsx')\n",
    "resultado_grupo_b = pd.read_excel('resultado_grupo_b.xlsx')\n",
    "\n",
    "## Criando uma lista com os resultados de cada grupo\n",
    "grupo_a = resultado_grupo_a['resultado']\n",
    "grupo_b = resultado_grupo_b['resultado']\n",
    "\n",
    "## Realizando o teste de Levene para verificar a igualdade das variâncias\n",
    "stat_levene, p_levene = levene(grupo_a, grupo_b)\n",
    "\n",
    "## Verificando se as variâncias são iguais ou diferentes\n",
    "if p_levene > 0.05:\n",
    "    print(\"As variâncias são consideradas iguais (p-value do teste de Levene > 0.05).\")\n",
    "    equal_var = True\n",
    "else:\n",
    "    print(\"As variâncias são diferentes (p-value do teste de Levene <= 0.05).\")\n",
    "    equal_var = False\n",
    "\n",
    "## Realizando o teste t das duas amostras com base no resultado do teste de Levene\n",
    "resultado_teste_t = stats.ttest_ind(grupo_a, grupo_b, equal_var=equal_var)\n",
    "\n",
    "## Visualizando os resultados do teste t\n",
    "print(f'\\nEstatística t: {resultado_teste_t.statistic}')\n",
    "print(f'Valor p: {resultado_teste_t.pvalue}\\n')\n",
    "\n",
    "## Resultado final do experimento\n",
    "if resultado_teste_t.pvalue < 0.05:\n",
    "    print('Hipótese ALTERNATIVA é a correta! \\nO resultado têm diferença significativa')\n",
    "else:\n",
    "    print('Hipótese NULA é a correta')"
   ]
  }
 ],
 "metadata": {
  "kernelspec": {
   "display_name": "Python 3 (ipykernel)",
   "language": "python",
   "name": "python3"
  },
  "language_info": {
   "codemirror_mode": {
    "name": "ipython",
    "version": 3
   },
   "file_extension": ".py",
   "mimetype": "text/x-python",
   "name": "python",
   "nbconvert_exporter": "python",
   "pygments_lexer": "ipython3",
   "version": "3.9.13"
  }
 },
 "nbformat": 4,
 "nbformat_minor": 5
}
